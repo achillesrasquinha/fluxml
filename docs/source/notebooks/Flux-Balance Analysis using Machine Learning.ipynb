{
 "cells": [
  {
   "cell_type": "code",
   "execution_count": null,
   "id": "5bdc16f9",
   "metadata": {},
   "outputs": [],
   "source": [
    "import os.path as osp\n",
    "import random\n",
    "\n",
    "import pandas  as pd\n",
    "import seaborn as sns\n",
    "\n",
    "from bpyutils.config import get_config_path\n",
    "\n",
    "from sklearn.model_selection import train_test_split\n",
    "from sklearn.preprocessing   import MinMaxScaler\n",
    "from sklearn.linear_model    import LinearRegression\n",
    "from sklearn.svm import SVR"
   ]
  },
  {
   "cell_type": "code",
   "execution_count": null,
   "id": "53e51c26",
   "metadata": {},
   "outputs": [],
   "source": [
    "config_path = get_config_path(\"fluxml\")\n",
    "nsamples    = 5\n",
    "\n",
    "random_samples = 3"
   ]
  },
  {
   "cell_type": "code",
   "execution_count": null,
   "id": "b01fb44b",
   "metadata": {},
   "outputs": [],
   "source": [
    "df = pd.read_csv(osp.join(config_path, \"data\", \"e_coli_core.csv\"))\n",
    "df.sample(nsamples)"
   ]
  },
  {
   "cell_type": "code",
   "execution_count": null,
   "id": "2724034a",
   "metadata": {},
   "outputs": [],
   "source": [
    "actual_length  = len(df)\n",
    "actual_length"
   ]
  },
  {
   "cell_type": "code",
   "execution_count": null,
   "id": "53ecd9b8",
   "metadata": {},
   "outputs": [],
   "source": [
    "df = df.drop_duplicates()\n",
    "current_length = len(df)\n",
    "\n",
    "percent_drop   = (1 - (current_length / actual_length)) * 100\n",
    "print(\"Percent Drop: %.4f\" % percent_drop)"
   ]
  },
  {
   "cell_type": "code",
   "execution_count": null,
   "id": "7c3b4660",
   "metadata": {},
   "outputs": [],
   "source": [
    "df_sorted = df.sort_values(by = 'objective_value', ascending = False)\n",
    "df_sorted.sample(nsamples)"
   ]
  },
  {
   "cell_type": "code",
   "execution_count": null,
   "id": "d38f416a",
   "metadata": {},
   "outputs": [],
   "source": [
    "scaler = MinMaxScaler()\n",
    "\n",
    "df = pd.DataFrame(scaler.fit_transform(df.values), columns = df.columns)"
   ]
  },
  {
   "cell_type": "code",
   "execution_count": null,
   "id": "59a15d79",
   "metadata": {},
   "outputs": [],
   "source": [
    "columns  = df.columns\n",
    "features = columns[:-1]\n",
    "labels   = columns[-1]\n",
    "\n",
    "train, test = train_test_split(df, train_size = 0.6)"
   ]
  },
  {
   "cell_type": "code",
   "execution_count": null,
   "id": "62befe69",
   "metadata": {},
   "outputs": [],
   "source": [
    "X_train, y_train = train[features], train[labels]"
   ]
  },
  {
   "cell_type": "code",
   "execution_count": null,
   "id": "9a727950",
   "metadata": {},
   "outputs": [],
   "source": [
    "model = LinearRegerssion()"
   ]
  },
  {
   "cell_type": "code",
   "execution_count": null,
   "id": "73f983ea",
   "metadata": {},
   "outputs": [],
   "source": [
    "model.fit(X_train, y_train)"
   ]
  },
  {
   "cell_type": "code",
   "execution_count": null,
   "id": "99f68e75",
   "metadata": {},
   "outputs": [],
   "source": [
    "X_test, y_test = test[features], test[labels]"
   ]
  },
  {
   "cell_type": "code",
   "execution_count": null,
   "id": "27e98b5d",
   "metadata": {},
   "outputs": [],
   "source": [
    "model.score(X_test, y_test)"
   ]
  }
 ],
 "metadata": {
  "kernelspec": {
   "display_name": "Python 3 (ipykernel)",
   "language": "python",
   "name": "python3"
  },
  "language_info": {
   "codemirror_mode": {
    "name": "ipython",
    "version": 3
   },
   "file_extension": ".py",
   "mimetype": "text/x-python",
   "name": "python",
   "nbconvert_exporter": "python",
   "pygments_lexer": "ipython3",
   "version": "3.9.9"
  }
 },
 "nbformat": 4,
 "nbformat_minor": 5
}
